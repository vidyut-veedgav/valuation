{
 "cells": [
  {
   "cell_type": "code",
   "execution_count": null,
   "metadata": {},
   "outputs": [],
   "source": [
    "import requests\n",
    "import matplotlib.pyplot as plt\n",
    "import pandas as pd\n",
    "\n",
    "api_key = \"6LLJ0OGpygUKCOcLmXagj8efVasIhIbt\"\n",
    "ticker = 'GM'\n",
    "\n",
    "#getting raw data\n",
    "def getDATA_URL(ticker, dataType):\n",
    "    return f'https://financialmodelingprep.com/api/v3/{dataType}/{ticker}?period=annual&apikey={api_key}'\n",
    "\n",
    "financial_data_is = requests.get(getDATA_URL(ticker, 'income-statement')).json()"
   ]
  },
  {
   "cell_type": "markdown",
   "metadata": {},
   "source": [
    "Types of api requests for each financial statement:\n",
    "\n",
    "'balance_sheet' : balance-sheet-statement\n",
    "'income_statement' : income-statement\n",
    "'cash_flows' : cash-flow-statement\n"
   ]
  },
  {
   "cell_type": "code",
   "execution_count": null,
   "metadata": {},
   "outputs": [],
   "source": [
    "#CSV file method\n",
    "def getCSV(dataType):\n",
    "    return requests.get(f'https://financialmodelingprep.com/api/v3/{dataType}/{ticker}?datatype=csv&period=annual&apikey={api_key}')\n",
    "\n",
    "is_csv_file = f'{ticker}: income_statement_data.csv'\n",
    "bs_csv_file = f'{ticker}: balance_sheet_data.csv'\n",
    "cf_csv_file = f'{ticker}: cash_flows_data.csv'\n",
    "\n",
    "is_excel_file = f'(EXCEL) {ticker}: income_statement_data.xlsx'\n",
    "bs_excel_file = f'(EXCEL) {ticker}: balance_sheet_data.xlsx'\n",
    "cf_excel_file = f'(EXCEL) {ticker}: cash_flows_data.xlsx'\n",
    "\n",
    "with open(is_csv_file, 'wb') as f:\n",
    "    f.write(getCSV('income-statement').content)\n",
    "\n",
    "with open(bs_csv_file, 'wb') as f:\n",
    "    f.write(getCSV('balance-sheet-statement').content)\n",
    "\n",
    "with open(cf_csv_file, 'wb') as f:\n",
    "    f.write(getCSV('cash-flow-statement').content)"
   ]
  },
  {
   "cell_type": "code",
   "execution_count": null,
   "metadata": {},
   "outputs": [],
   "source": [
    "#converting the csv files to excel files\n",
    "pd.read_csv(is_csv_file).to_excel(is_excel_file, sheet_name=\"income_statement_data\", index=False)"
   ]
  },
  {
   "cell_type": "code",
   "execution_count": null,
   "metadata": {},
   "outputs": [],
   "source": [
    "#cleaning the balance sheet data to only include relevant line items\n",
    "\n",
    "def IS_lineItem(column, item):\n",
    "    return financial_data_is[column][item]\n",
    "\n",
    "print(financial_data_is)\n",
    "\n",
    "income_statement_DICT = {\n",
    "    \"Revenue\" : IS_lineItem(0, 'revenue'),\n",
    "    \"Cost of Goods Sold\" : IS_lineItem(0, 'costOfRevenue'),\n",
    "    \"Gross Profit\" : IS_lineItem(0, 'grossProfit'),\n",
    "    \"Operating Expenses\" : IS_lineItem(0, 'operatingExpenses'),\n",
    "    \"EBITDA\" : IS_lineItem(0, 'ebitda'),\n",
    "    \"Depreciation and Amortization\" : IS_lineItem(0, 'depreciationAndAmortization'),\n",
    "    \"EBIT (Operating Income)\" : IS_lineItem(0, 'operatingIncome'),\n",
    "    \"Interest Expense\" : IS_lineItem(0, 'interestExpense'),\n",
    "    \"EBT\" : IS_lineItem(0, 'incomeBeforeTax'),\n",
    "    \"Tax Expense\" : IS_lineItem(0, 'incomeTaxExpense'),\n",
    "    \"Net Income\" : IS_lineItem(0, 'netIncome')\n",
    "}\n",
    "\n",
    "df = pd.DataFrame.from_dict(income_statement_DICT, orient=\"index\", columns=[financial_data_is[0]['date']])\n",
    "print(df)"
   ]
  }
 ],
 "metadata": {
  "kernelspec": {
   "display_name": "Python 3 (ipykernel)",
   "language": "python",
   "name": "python3"
  },
  "language_info": {
   "codemirror_mode": {
    "name": "ipython",
    "version": 3
   },
   "file_extension": ".py",
   "mimetype": "text/x-python",
   "name": "python",
   "nbconvert_exporter": "python",
   "pygments_lexer": "ipython3",
   "version": "3.11.7"
  }
 },
 "nbformat": 4,
 "nbformat_minor": 4
}
