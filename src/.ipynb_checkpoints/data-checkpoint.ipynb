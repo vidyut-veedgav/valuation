{
 "cells": [
  {
   "cell_type": "code",
   "execution_count": 8,
   "metadata": {},
   "outputs": [
    {
     "name": "stdout",
     "output_type": "stream",
     "text": [
      "{'date': '2023-06-30', 'symbol': 'MSFT', 'reportedCurrency': 'USD', 'cik': '0000789019', 'fillingDate': '2023-07-27', 'acceptedDate': '2023-07-27 16:01:56', 'calendarYear': '2023', 'period': 'FY', 'cashAndCashEquivalents': 34704000000, 'shortTermInvestments': 76558000000, 'cashAndShortTermInvestments': 111262000000, 'netReceivables': 48688000000, 'inventory': 2500000000, 'otherCurrentAssets': 21807000000, 'totalCurrentAssets': 184257000000, 'propertyPlantEquipmentNet': 109987000000, 'goodwill': 67886000000, 'intangibleAssets': 9366000000, 'goodwillAndIntangibleAssets': 77252000000, 'longTermInvestments': 9879000000, 'taxAssets': 0, 'otherNonCurrentAssets': 30601000000, 'totalNonCurrentAssets': 227719000000, 'otherAssets': 0, 'totalAssets': 411976000000, 'accountPayables': 18095000000, 'shortTermDebt': 5247000000, 'taxPayables': 4152000000, 'deferredRevenue': 50901000000, 'otherCurrentLiabilities': 29906000000, 'totalCurrentLiabilities': 104149000000, 'longTermDebt': 54718000000, 'deferredRevenueNonCurrent': 2912000000, 'deferredTaxLiabilitiesNonCurrent': 433000000, 'otherNonCurrentLiabilities': 43541000000, 'totalNonCurrentLiabilities': 101604000000, 'otherLiabilities': 0, 'capitalLeaseObligations': 12728000000, 'totalLiabilities': 205753000000, 'preferredStock': 0, 'commonStock': 93718000000, 'retainedEarnings': 118848000000, 'accumulatedOtherComprehensiveIncomeLoss': -6343000000, 'othertotalStockholdersEquity': 0, 'totalStockholdersEquity': 206223000000, 'totalEquity': 206223000000, 'totalLiabilitiesAndStockholdersEquity': 411976000000, 'minorityInterest': 0, 'totalLiabilitiesAndTotalEquity': 411976000000, 'totalInvestments': 86437000000, 'totalDebt': 59965000000, 'netDebt': 25261000000, 'link': 'https://www.sec.gov/Archives/edgar/data/789019/000095017023035122/0000950170-23-035122-index.htm', 'finalLink': 'https://www.sec.gov/Archives/edgar/data/789019/000095017023035122/msft-20230630.htm'}\n"
     ]
    }
   ],
   "source": [
    "import requests\n",
    "import matplotlib.pyplot as plt\n",
    "import pandas as pd\n",
    "\n",
    "api_key = \"6LLJ0OGpygUKCOcLmXagj8efVasIhIbt\"\n",
    "\n",
    "ticker = 'MSFT'\n",
    "years = 2\n",
    "dType_income_statement = 'income-statement'\n",
    "dType_balance_sheet = 'balance-sheet-statement'\n",
    "dType_cash_flows = 'cash-flow-statement'\n",
    "\n",
    "balance_sheet = requests.get(f'https://financialmodelingprep.com/api/v3/{dType_balance_sheet}/{ticker}?period=annual&apikey={api_key}')\n",
    "print(balance_sheet.json())\n",
    "\n"
   ]
  }
 ],
 "metadata": {
  "kernelspec": {
   "display_name": "base",
   "language": "python",
   "name": "python3"
  },
  "language_info": {
   "codemirror_mode": {
    "name": "ipython",
    "version": 3
   },
   "file_extension": ".py",
   "mimetype": "text/x-python",
   "name": "python",
   "nbconvert_exporter": "python",
   "pygments_lexer": "ipython3",
   "version": "3.11.7"
  }
 },
 "nbformat": 4,
 "nbformat_minor": 2
}
